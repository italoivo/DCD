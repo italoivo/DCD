{
 "cells": [
  {
   "cell_type": "code",
   "execution_count": 1,
   "id": "431515ef",
   "metadata": {},
   "outputs": [],
   "source": [
    "import numpy as np\n",
    "import mat73\n",
    "import mne\n",
    "import matplotlib.pyplot as plt\n",
    "from scipy import signal\n",
    "import scipy.io as sio\n",
    "import os\n",
    "import pickle\n",
    "import dyn_comms_toolbox"
   ]
  },
  {
   "cell_type": "code",
   "execution_count": 9,
   "id": "7433f4f2",
   "metadata": {},
   "outputs": [],
   "source": [
    "folder = './EEG_dot'"
   ]
  },
  {
   "cell_type": "code",
   "execution_count": 10,
   "id": "a600f86f",
   "metadata": {},
   "outputs": [],
   "source": [
    "file_list = os.listdir(path=folder)\n",
    "file_list = [fn for fn in os.listdir(path=folder) if fn.endswith('pkl')]"
   ]
  },
  {
   "cell_type": "code",
   "execution_count": 11,
   "id": "f6f4d6e6",
   "metadata": {},
   "outputs": [],
   "source": [
    "matrices = []\n",
    "for file in file_list:\n",
    "    input_name = folder + '/' + file\n",
    "    with open(input_name, 'rb') as f:\n",
    "        conn_matrices = pickle.load(f)\n",
    "    matrices.append(conn_matrices[0])"
   ]
  },
  {
   "cell_type": "code",
   "execution_count": 12,
   "id": "410f280a",
   "metadata": {},
   "outputs": [],
   "source": [
    "param_search_results = dyn_comms_toolbox.parameter_search(matrices,0.2,2.0,0.04,0.2,3)"
   ]
  },
  {
   "cell_type": "code",
   "execution_count": 13,
   "id": "25745ee1",
   "metadata": {},
   "outputs": [
    {
     "data": {
      "text/plain": [
       "([[1.0, 0.04],\n",
       "  [1.1111111111111112, 0.022222222222222227],\n",
       "  [1.0962962962962963, 0.02090534979423869]],\n",
       " [array([[0.8       , 1.        , 1.2       , 1.4       , 1.6       ,\n",
       "          1.8       , 2.        ],\n",
       "         [3.14035496, 0.19173346, 0.89136162, 1.97646855, 2.69513195,\n",
       "          3.3892732 , 4.13286098]]),\n",
       "  array([[0.8       , 0.84444444, 0.88888889, 0.93333333, 0.97777778,\n",
       "          1.02222222, 1.06666667, 1.11111111, 1.15555556, 1.2       ],\n",
       "         [4.09103077, 0.52991791, 1.43900339, 0.20505849, 0.29354716,\n",
       "          0.38619371, 0.43098331, 0.08240468, 0.52383449, 0.85065826]]),\n",
       "  array([[1.06666667, 1.07654321, 1.08641975, 1.0962963 , 1.10617284,\n",
       "          1.11604938, 1.12592593, 1.13580247, 1.14567901, 1.15555556],\n",
       "         [0.45888622, 0.37380606, 0.14832172, 0.02089406, 0.02544736,\n",
       "          0.20059348, 0.29090633, 0.3402781 , 0.46109974, 0.50039969]])],\n",
       " [array([[0.04      , 0.05777778, 0.07555556, 0.09333333, 0.11111111,\n",
       "          0.12888889, 0.14666667, 0.16444444, 0.18222222, 0.2       ],\n",
       "         [0.02125563, 0.02238479, 0.02233755, 0.02457833, 0.02275451,\n",
       "          0.02210285, 0.02236382, 0.02125598, 0.02291749, 0.02418822]]),\n",
       "  array([[0.02222222, 0.02617284, 0.03012346, 0.03407407, 0.03802469,\n",
       "          0.04197531, 0.04592593, 0.04987654, 0.05382716, 0.05777778],\n",
       "         [0.01551109, 0.02013619, 0.01901308, 0.01798352, 0.02070054,\n",
       "          0.01709006, 0.0187385 , 0.01717806, 0.01883373, 0.01876283]]),\n",
       "  array([[0.0182716 , 0.01914952, 0.02002743, 0.02090535, 0.02178326,\n",
       "          0.02266118, 0.02353909, 0.02441701, 0.02529492, 0.02617284],\n",
       "         [0.01789928, 0.01909971, 0.01733476, 0.01720256, 0.02052356,\n",
       "          0.02015418, 0.01909242, 0.01776899, 0.01985722, 0.01869617]])])"
      ]
     },
     "execution_count": 13,
     "metadata": {},
     "output_type": "execute_result"
    }
   ],
   "source": [
    "param_search_results"
   ]
  },
  {
   "cell_type": "code",
   "execution_count": 2,
   "id": "20989685",
   "metadata": {},
   "outputs": [
    {
     "ename": "NameError",
     "evalue": "name 'param_search_results' is not defined",
     "output_type": "error",
     "traceback": [
      "\u001b[1;31m---------------------------------------------------------------------------\u001b[0m",
      "\u001b[1;31mNameError\u001b[0m                                 Traceback (most recent call last)",
      "Input \u001b[1;32mIn [2]\u001b[0m, in \u001b[0;36m<cell line: 5>\u001b[1;34m()\u001b[0m\n\u001b[0;32m      2\u001b[0m     \u001b[38;5;28;01mwith\u001b[39;00m \u001b[38;5;28mopen\u001b[39m(name, \u001b[38;5;124m'\u001b[39m\u001b[38;5;124mwb\u001b[39m\u001b[38;5;124m'\u001b[39m) \u001b[38;5;28;01mas\u001b[39;00m f:\n\u001b[0;32m      3\u001b[0m         pickle\u001b[38;5;241m.\u001b[39mdump(obj, f, pickle\u001b[38;5;241m.\u001b[39mHIGHEST_PROTOCOL)\n\u001b[1;32m----> 5\u001b[0m save_obj(\u001b[43mparam_search_results\u001b[49m, \u001b[38;5;124m'\u001b[39m\u001b[38;5;124mEEG_search_result.pck\u001b[39m\u001b[38;5;124m'\u001b[39m)\n",
      "\u001b[1;31mNameError\u001b[0m: name 'param_search_results' is not defined"
     ]
    }
   ],
   "source": [
    "def save_obj(obj, name ):\n",
    "    with open(name, 'wb') as f:\n",
    "        pickle.dump(obj, f, pickle.HIGHEST_PROTOCOL)\n",
    "        \n",
    "save_obj(param_search_results, 'EEG_search_result.pck')"
   ]
  },
  {
   "cell_type": "code",
   "execution_count": 3,
   "id": "9c645d9d",
   "metadata": {},
   "outputs": [],
   "source": [
    "with open('EEG_search_result.pck', 'rb') as f:\n",
    "    param_search_results = pickle.load(f)"
   ]
  },
  {
   "cell_type": "code",
   "execution_count": 20,
   "id": "65f1adf3",
   "metadata": {},
   "outputs": [],
   "source": [
    "gamma,omega = param_search_results[0][2]"
   ]
  },
  {
   "cell_type": "code",
   "execution_count": 21,
   "id": "e3de1289",
   "metadata": {},
   "outputs": [],
   "source": [
    "comm_struct, gamma, omega, q = dyn_comms_toolbox.dynamic_louvain(matrices[0], gamma, omega)"
   ]
  },
  {
   "cell_type": "code",
   "execution_count": 22,
   "id": "e44e6991",
   "metadata": {},
   "outputs": [
    {
     "data": {
      "image/png": "[encoded data removed]",
      "text/plain": [
       "<Figure size 432x288 with 1 Axes>"
      ]
     },
     "metadata": {
      "needs_background": "light"
     },
     "output_type": "display_data"
    }
   ],
   "source": [
    "plt.imshow(np.transpose(comm_struct))\n",
    "plt.xlabel('time window')\n",
    "plt.ylabel('node')\n",
    "plt.show()"
   ]
  },
  {
   "cell_type": "code",
   "execution_count": null,
   "id": "56281c8a",
   "metadata": {},
   "outputs": [],
   "source": []
  }
 ],
 "metadata": {
  "kernelspec": {
   "display_name": "Python 3 (ipykernel)",
   "language": "python",
   "name": "python3"
  },
  "language_info": {
   "codemirror_mode": {
    "name": "ipython",
    "version": 3
   },
   "file_extension": ".py",
   "mimetype": "text/x-python",
   "name": "python",
   "nbconvert_exporter": "python",
   "pygments_lexer": "ipython3",
   "version": "3.8.5"
  }
 },
 "nbformat": 4,
 "nbformat_minor": 5
}
